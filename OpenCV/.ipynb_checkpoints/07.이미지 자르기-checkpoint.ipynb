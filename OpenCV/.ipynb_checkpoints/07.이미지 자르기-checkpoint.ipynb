{
 "cells": [
  {
   "cell_type": "markdown",
   "id": "8fb371cc-05b8-41ba-9c09-b0577df4d6a5",
   "metadata": {},
   "source": [
    "# 7. 이미지 자르기"
   ]
  },
  {
   "cell_type": "code",
   "execution_count": null,
   "id": "1fe3d872-e2a4-4c40-87d9-11c8082e5d07",
   "metadata": {},
   "outputs": [],
   "source": [
    "# 이미지처리하는 부분은 이미지에대해서 하던 동영상이던 똑같음\n",
    "# 이미지 자르기 : 원본 이미지에서 원하는 만큼 잘라 뭔가 처리 하는 것"
   ]
  },
  {
   "cell_type": "markdown",
   "id": "624129bc-d28c-4e3f-bd8d-474f46f31c32",
   "metadata": {},
   "source": [
    "## 영역을 잘라서 새로운 윈도우 창에 표시"
   ]
  },
  {
   "cell_type": "code",
   "execution_count": 1,
   "id": "47e45e1e-1b10-4bd4-b582-5f53689ba8eb",
   "metadata": {},
   "outputs": [],
   "source": [
    "import cv2\n",
    "img = cv2.imread('img.jpg')\n",
    "# img.shape # (390, 640, 3) #img shape을통해 크기 확인\n",
    "\n",
    "#이미지 영역을 자름\n",
    "crop = img[100:200, 200:400] # 세로범위(100~200까지) , 가로범위(200~400까지)\n",
    "\n",
    "cv2.imshow('img', img) \n",
    "cv2.imshow('crop', crop) \n",
    "cv2.waitKey(0)\n",
    "cv2.destroyAllWindows() "
   ]
  },
  {
   "cell_type": "code",
   "execution_count": 2,
   "id": "06391f61-5e08-4557-954a-725489fe855c",
   "metadata": {},
   "outputs": [
    {
     "data": {
      "text/plain": [
       "(391, 640, 3)"
      ]
     },
     "execution_count": 2,
     "metadata": {},
     "output_type": "execute_result"
    }
   ],
   "source": [
    "#이미지 크기 알수있는 방법 shape\n",
    "import cv2\n",
    "img = cv2.imread('img.jpg')\n",
    "img.shape"
   ]
  },
  {
   "cell_type": "markdown",
   "id": "0158ae95-9788-4e0a-bd7d-ce71cba15110",
   "metadata": {},
   "source": [
    "## 영역을 잘라서 기존 윈도우에 표시"
   ]
  },
  {
   "cell_type": "code",
   "execution_count": 9,
   "id": "1409f48f-6c02-44aa-8b08-ceec2e556119",
   "metadata": {},
   "outputs": [],
   "source": [
    "import cv2\n",
    "img = cv2.imread('img.jpg')\n",
    "\n",
    "# 세로범위(100~200까지) , 가로범위(200~400까지)\n",
    "crop = img[100:200, 200:400] \n",
    "# 자른 범위 영역 위치 설정\n",
    "img[100:200, 400:600] = crop \n",
    "\n",
    "cv2.imshow('img', img) \n",
    "cv2.imshow('crop', crop) \n",
    "cv2.waitKey(0)\n",
    "cv2.destroyAllWindows() "
   ]
  },
  {
   "cell_type": "code",
   "execution_count": null,
   "id": "f56c0dd2-9de7-4f18-98ec-cdbdcea363bb",
   "metadata": {},
   "outputs": [],
   "source": []
  },
  {
   "cell_type": "code",
   "execution_count": null,
   "id": "61416ab5-ec5c-4220-9350-70c3998b1bbb",
   "metadata": {},
   "outputs": [],
   "source": []
  }
 ],
 "metadata": {
  "kernelspec": {
   "display_name": "Python 3 (ipykernel)",
   "language": "python",
   "name": "python3"
  },
  "language_info": {
   "codemirror_mode": {
    "name": "ipython",
    "version": 3
   },
   "file_extension": ".py",
   "mimetype": "text/x-python",
   "name": "python",
   "nbconvert_exporter": "python",
   "pygments_lexer": "ipython3",
   "version": "3.11.7"
  }
 },
 "nbformat": 4,
 "nbformat_minor": 5
}
