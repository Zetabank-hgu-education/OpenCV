{
 "cells": [
  {
   "cell_type": "markdown",
   "id": "2795210a-317f-428b-97b3-1deba0ea755a",
   "metadata": {},
   "source": [
    "# 8. 이미지 대칭"
   ]
  },
  {
   "cell_type": "code",
   "execution_count": null,
   "id": "afc99190-7c25-4f02-8220-1235d1905277",
   "metadata": {},
   "outputs": [],
   "source": [
    "# 이미지를 세로를 기준으로 뒤집거나, 가로를 기준으로 뒤집거나, 세로가로 기준으로 뒤집는 것"
   ]
  },
  {
   "cell_type": "markdown",
   "id": "73f0da50-9b84-4855-ab5f-78ab6fc666ac",
   "metadata": {},
   "source": [
    "## 좌우대칭"
   ]
  },
  {
   "cell_type": "code",
   "execution_count": 3,
   "id": "21fa7f7e-3f40-4736-835e-efb01fa1cbfb",
   "metadata": {},
   "outputs": [],
   "source": [
    "import cv2\n",
    "img = cv2.imread('img.jpg')\n",
    "\n",
    "#flip : 대칭된 이미지 제작을 위한 함수\n",
    "#flipcode > 0 : 좌우대칭 Horizontal\n",
    "flip_horizontal = cv2.flip(img, 1) \n",
    "\n",
    "cv2.imshow('img', img) \n",
    "cv2.imshow('flip_horizontal', flip_horizontal) \n",
    "cv2.waitKey(0) \n",
    "cv2.destroyAllWindows() "
   ]
  },
  {
   "cell_type": "markdown",
   "id": "de2791f6-23f0-45aa-8d9e-06da9b3cf9ef",
   "metadata": {},
   "source": [
    "## 상하대칭"
   ]
  },
  {
   "cell_type": "code",
   "execution_count": 5,
   "id": "da06625d-1544-4197-b750-14b29c55fded",
   "metadata": {},
   "outputs": [],
   "source": [
    "import cv2\n",
    "img = cv2.imread('img.jpg')\n",
    "\n",
    "#flip : 대칭된 이미지 제작을 위한 함수\n",
    "#flipcode == 0 : 상하 대칭 Vertical\n",
    "flip_vertical = cv2.flip(img, 0) \n",
    "\n",
    "cv2.imshow('img', img) \n",
    "cv2.imshow('flip_vertical', flip_vertical) \n",
    "cv2.waitKey(0) \n",
    "cv2.destroyAllWindows() "
   ]
  },
  {
   "cell_type": "markdown",
   "id": "3e073565-6eb1-4595-b22d-29aa62f509f7",
   "metadata": {},
   "source": [
    "## 상하좌우 대칭"
   ]
  },
  {
   "cell_type": "code",
   "execution_count": null,
   "id": "818afc1b-fa07-4d91-bf7f-648b44c02f77",
   "metadata": {},
   "outputs": [],
   "source": [
    "import cv2\n",
    "img = cv2.imread('img.jpg')\n",
    "\n",
    "#flip : 대칭된 이미지 제작을 위한 함수\n",
    "#flipcode < 0 :상화 좌우대칭 Horizontal\n",
    "flip_both = cv2.flip(img, -1) \n",
    "\n",
    "cv2.imshow('img', img) \n",
    "cv2.imshow('flip_both', flip_both) \n",
    "cv2.waitKey(0) \n",
    "cv2.destroyAllWindows() "
   ]
  }
 ],
 "metadata": {
  "kernelspec": {
   "display_name": "Python 3 (ipykernel)",
   "language": "python",
   "name": "python3"
  },
  "language_info": {
   "codemirror_mode": {
    "name": "ipython",
    "version": 3
   },
   "file_extension": ".py",
   "mimetype": "text/x-python",
   "name": "python",
   "nbconvert_exporter": "python",
   "pygments_lexer": "ipython3",
   "version": "3.11.7"
  }
 },
 "nbformat": 4,
 "nbformat_minor": 5
}
