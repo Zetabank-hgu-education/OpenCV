{
 "cells": [
  {
   "cell_type": "markdown",
   "id": "fbfecdfa-2094-4f0a-9936-7f71dedb06b4",
   "metadata": {},
   "source": [
    "## OpenCV를 이용하여 가로로 촬영된 동영상을 세로로 회전하는 프로그램을 작성하시오."
   ]
  },
  {
   "cell_type": "markdown",
   "id": "bfb18c5e-1910-4b7f-a5c5-e8483187d3cd",
   "metadata": {},
   "source": [
    "### 조건\n",
    "1. 회전 : 시계 반대방향으로 90도\n",
    "2. 재생속도 (FPS) : 원본 X4배\n",
    "3. 출력 파일명 : city_output.avi(코덱 : DIVX)\n",
    "\n",
    "원본 파일명 : city.mp4"
   ]
  },
  {
   "cell_type": "code",
   "execution_count": 15,
   "id": "3fd77768-eb3e-46c4-b7d2-617ed588b14e",
   "metadata": {},
   "outputs": [],
   "source": [
    "import cv2\n",
    "cap = cv2.VideoCapture('city.mp4')\n",
    "fourcc = cv2.VideoWriter_fourcc(*'DIVX')\n",
    "width = round(cap.get(cv2.CAP_PROP_FRAME_WIDTH))\n",
    "height = round(cap.get(cv2.CAP_PROP_FRAME_HEIGHT))\n",
    "fps = cap.get(cv2.CAP_PROP_FPS)\n",
    "\n",
    "out = cv2.VideoWriter('city_output.avi', fourcc, fps * 4, (height, width))\n",
    "\n",
    "while cap.isOpened():\n",
    "    ret, frame = cap.read()\n",
    "    if not ret:\n",
    "        break\n",
    "\n",
    "    rotate_frame = cv2.rotate(frame, cv2.ROTATE_90_COUNTERCLOCKWISE) #시계 반대 방향으로 90도\n",
    "    out.write(rotate_frame)\n",
    "    cv2.imshow('video', frame)\n",
    "    \n",
    "    if cv2.waitKey(1) == ord('q'):\n",
    "        break\n",
    "\n",
    "out.release()\n",
    "cap.release()\n",
    "cv2.destroyAllWindows()\n",
    "\n",
    "#파일을 사용하는 과정에서 성능 저하가 생겨 원본 속도가 조금 느려질수도있음"
   ]
  },
  {
   "cell_type": "code",
   "execution_count": null,
   "id": "ecd57bbf-9910-448c-80ec-704f74165292",
   "metadata": {},
   "outputs": [],
   "source": [
    "import cv2\n",
    "\n",
    "# 동영상 파일을 열기 위해 VideoCapture 객체 생성\n",
    "cap = cv2.VideoCapture('city.mp4')\n",
    "\n",
    "# 동영상을 저장할 때 사용할 코덱을 설정\n",
    "fourcc = cv2.VideoWriter_fourcc(*'DIVX')\n",
    "\n",
    "# 동영상의 너비와 높이, 프레임 속도를 가져옴\n",
    "width = round(cap.get(cv2.CAP_PROP_FRAME_WIDTH))   # 프레임 너비\n",
    "height = round(cap.get(cv2.CAP_PROP_FRAME_HEIGHT))  # 프레임 높이\n",
    "fps = cap.get(cv2.CAP_PROP_FPS)                    # 프레임 속도\n",
    "\n",
    "# VideoWriter 객체를 생성하여 동영상을 저장할 파일과 설정한 코덱, FPS, 프레임 크기를 지정\n",
    "out = cv2.VideoWriter('city_output.avi', fourcc, fps * 4, (height, width))\n",
    "\n",
    "# 동영상 프레임을 읽어오고 처리하는 루프\n",
    "while cap.isOpened():\n",
    "    # 동영상 프레임을 읽어옴\n",
    "    ret, frame = cap.read()\n",
    "    \n",
    "    # 프레임 읽기에 실패한 경우 루프 종료\n",
    "    if not ret:\n",
    "        break\n",
    "\n",
    "    # 프레임을 시계 반대 방향으로 90도 회전\n",
    "    rotate_frame = cv2.rotate(frame, cv2.ROTATE_90_COUNTERCLOCKWISE)\n",
    "\n",
    "    # 회전한 프레임을 VideoWriter 객체를 사용하여 출력 동영상에 쓰기\n",
    "    out.write(rotate_frame)\n",
    "\n",
    "    # 원본 프레임을 화면에 표시\n",
    "    cv2.imshow('video', frame)\n",
    "    \n",
    "    # 'q' 키를 누르면 루프 종료\n",
    "    if cv2.waitKey(1) == ord('q'):\n",
    "        break\n",
    "\n",
    "# VideoWriter 객체와 VideoCapture 객체를 해제\n",
    "out.release()\n",
    "cap.release()\n",
    "\n",
    "# 모든 OpenCV 창 닫기\n",
    "cv2.destroyAllWindows()\n"
   ]
  }
 ],
 "metadata": {
  "kernelspec": {
   "display_name": "Python 3 (ipykernel)",
   "language": "python",
   "name": "python3"
  },
  "language_info": {
   "codemirror_mode": {
    "name": "ipython",
    "version": 3
   },
   "file_extension": ".py",
   "mimetype": "text/x-python",
   "name": "python",
   "nbconvert_exporter": "python",
   "pygments_lexer": "ipython3",
   "version": "3.11.7"
  }
 },
 "nbformat": 4,
 "nbformat_minor": 5
}
