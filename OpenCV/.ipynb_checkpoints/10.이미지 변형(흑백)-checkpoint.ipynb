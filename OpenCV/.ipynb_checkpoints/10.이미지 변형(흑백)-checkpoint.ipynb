{
 "cells": [
  {
   "cell_type": "markdown",
   "id": "92317eee-a106-4b59-91c5-5e3236da6814",
   "metadata": {},
   "source": [
    "# 10. 이미지 변형 (흑백)"
   ]
  },
  {
   "cell_type": "code",
   "execution_count": null,
   "id": "e9096912-9949-468c-8be2-27a8416f7ba1",
   "metadata": {},
   "outputs": [],
   "source": [
    "# 이미지 데이터 분석을 위한 전처리라고 불리는 단계 사용되는데 이미지 내에서 불필요한 부분을 걸러내는 작업\n"
   ]
  },
  {
   "cell_type": "markdown",
   "id": "90b2331e-7824-4eb9-bb5f-73b3728f30f3",
   "metadata": {},
   "source": [
    "# 이미지를 흑백으로 읽음"
   ]
  },
  {
   "cell_type": "code",
   "execution_count": 2,
   "id": "00b9348b-1391-4ea8-a35b-eb127a0720af",
   "metadata": {},
   "outputs": [],
   "source": [
    "import cv2\n",
    "img = cv2.imread('img.jpg', cv2.IMREAD_GRAYSCALE)\n",
    "\n",
    "cv2.imshow('img', img) \n",
    "cv2.waitKey(0) s\n",
    "cv2.destroyAllWindows() "
   ]
  },
  {
   "cell_type": "markdown",
   "id": "aa59dbad-0955-4f6a-86ef-2deb4d882e6f",
   "metadata": {},
   "source": [
    "# 불러온 이미지를 흑백으로 변경"
   ]
  },
  {
   "cell_type": "code",
   "execution_count": 1,
   "id": "bee91013-1bb3-457f-975c-c84213737a93",
   "metadata": {},
   "outputs": [],
   "source": [
    "import cv2\n",
    "img = cv2.imread('img.jpg')\n",
    "#컬러로 불러온 이미지를 cvtColor(converter Color)를 통해 색 변경\n",
    "dst = cv2.cvtColor(img, cv2.COLOR_BGR2GRAY) #흑백으로 바꾼 이미지를 dst로 저장\n",
    "\n",
    "cv2.imshow('img', img)\n",
    "cv2.imshow('dst', dst)\n",
    "cv2.waitKey(0) \n",
    "cv2.destroyAllWindows() "
   ]
  },
  {
   "cell_type": "code",
   "execution_count": null,
   "id": "e77c2573-1a91-4ba6-90d8-9a950d71c2be",
   "metadata": {},
   "outputs": [],
   "source": []
  }
 ],
 "metadata": {
  "kernelspec": {
   "display_name": "Python 3 (ipykernel)",
   "language": "python",
   "name": "python3"
  },
  "language_info": {
   "codemirror_mode": {
    "name": "ipython",
    "version": 3
   },
   "file_extension": ".py",
   "mimetype": "text/x-python",
   "name": "python",
   "nbconvert_exporter": "python",
   "pygments_lexer": "ipython3",
   "version": "3.11.7"
  }
 },
 "nbformat": 4,
 "nbformat_minor": 5
}
