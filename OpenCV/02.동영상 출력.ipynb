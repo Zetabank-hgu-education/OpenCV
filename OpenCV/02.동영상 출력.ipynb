{
 "cells": [
  {
   "cell_type": "markdown",
   "id": "58275b06-367b-4653-a5b7-8c10d04043bb",
   "metadata": {},
   "source": [
    "# 2. 동영상 출력"
   ]
  },
  {
   "cell_type": "markdown",
   "id": "11701fd6-f958-42cc-9e08-2cdf93a51894",
   "metadata": {},
   "source": [
    "# 동영상 파일 출력"
   ]
  },
  {
   "cell_type": "code",
   "execution_count": 10,
   "id": "5a70a27a-8199-4979-8e9e-96da86d64cce",
   "metadata": {},
   "outputs": [
    {
     "name": "stdout",
     "output_type": "stream",
     "text": [
      "사용자 입력에 의해 종료합니다.\n"
     ]
    }
   ],
   "source": [
    "import cv2\n",
    "cap = cv2.VideoCapture('video.mp4')\n",
    "\n",
    "while cap.isOpened(): #동영상 파일이 올바로 열렸는지?\n",
    "    ret, frame = cap.read() # ret : 불러 왔는지 확인 후 frame에 저장 \n",
    "    if not ret:\n",
    "        print('더 이상 가져올 프레임이 없어요')\n",
    "        break # braek로 반복문 탈출\n",
    "\n",
    "    cv2.imshow('video', frame)\n",
    "    #waitkey값을 통해 영상 재생 속도 조절 가능\n",
    "    if cv2.waitKey(1) == ord('q'): #키 값이 q의 아스키코드 값과 동일하면 브레이크\n",
    "        print('사용자 입력에 의해 종료합니다.')\n",
    "        break\n",
    "\n",
    "cap.release() #자원 반환\n",
    "cv2.destroyAllWindows()"
   ]
  },
  {
   "cell_type": "code",
   "execution_count": null,
   "id": "bc1902bd-1c5f-4cae-a932-6da0cb7208f4",
   "metadata": {},
   "outputs": [],
   "source": []
  },
  {
   "cell_type": "code",
   "execution_count": null,
   "id": "5a76aca6-58ed-49ce-b690-2f625c09730d",
   "metadata": {},
   "outputs": [],
   "source": []
  },
  {
   "cell_type": "code",
   "execution_count": null,
   "id": "00e13784-d716-4f8e-8a7f-375eafe6052b",
   "metadata": {},
   "outputs": [],
   "source": []
  },
  {
   "cell_type": "code",
   "execution_count": null,
   "id": "15a48dee-1d94-408e-b8ea-7457e32f8c16",
   "metadata": {},
   "outputs": [],
   "source": []
  },
  {
   "cell_type": "code",
   "execution_count": null,
   "id": "c1a184ea-cd96-441d-b03a-af284af7d6cd",
   "metadata": {},
   "outputs": [],
   "source": []
  }
 ],
 "metadata": {
  "kernelspec": {
   "display_name": "Python 3 (ipykernel)",
   "language": "python",
   "name": "python3"
  },
  "language_info": {
   "codemirror_mode": {
    "name": "ipython",
    "version": 3
   },
   "file_extension": ".py",
   "mimetype": "text/x-python",
   "name": "python",
   "nbconvert_exporter": "python",
   "pygments_lexer": "ipython3",
   "version": "3.11.7"
  }
 },
 "nbformat": 4,
 "nbformat_minor": 5
}
