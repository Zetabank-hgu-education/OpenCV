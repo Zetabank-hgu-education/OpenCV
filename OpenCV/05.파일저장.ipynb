{
 "cells": [
  {
   "cell_type": "markdown",
   "id": "6e177c04-86ff-402d-8ed5-6a744864cd5c",
   "metadata": {},
   "source": [
    "## 5. 파일저장\n"
   ]
  },
  {
   "cell_type": "markdown",
   "id": "85c6a3c0-83c3-4544-a564-3ec61986c098",
   "metadata": {},
   "source": [
    "# 이미지 저장"
   ]
  },
  {
   "cell_type": "markdown",
   "id": "c5e0f04a-0f3a-460d-8a91-f81dc4725268",
   "metadata": {},
   "source": [
    "# JPG로 사진 저장"
   ]
  },
  {
   "cell_type": "code",
   "execution_count": 2,
   "id": "090e915b-b42c-4ec5-980e-9200e9c0c7a6",
   "metadata": {},
   "outputs": [
    {
     "name": "stdout",
     "output_type": "stream",
     "text": [
      "True\n"
     ]
    }
   ],
   "source": [
    "#결과물을 파일로 저장\n",
    "import cv2\n",
    "#흑백으로 불러오기\n",
    "img = cv2.imread('img.jpg', cv2.IMREAD_GRAYSCALE) \n",
    "cv2.imshow('img', img) \n",
    "cv2.waitKey(0) \n",
    "cv2.destroyAllWindows() \n",
    "\n",
    "#result함수로 이미지 저장\n",
    "result = cv2.imwrite('img_save2.jpg', img)\n",
    "#True가 뜨면 wrokspace내에 흑백사진이 저장\n",
    "print(result)"
   ]
  },
  {
   "cell_type": "markdown",
   "id": "c9e06760-712f-4427-b3ac-a8c0429a4b77",
   "metadata": {},
   "source": [
    "# PNG로 사진저장"
   ]
  },
  {
   "cell_type": "code",
   "execution_count": 3,
   "id": "1c695344-5dbc-46e6-9c1d-a03812e47f46",
   "metadata": {},
   "outputs": [
    {
     "name": "stdout",
     "output_type": "stream",
     "text": [
      "True\n"
     ]
    }
   ],
   "source": [
    "#결과물을 파일로 저장\n",
    "import cv2\n",
    "img = cv2.imread('img.jpg', cv2.IMREAD_GRAYSCALE) #흑백으로 불러오기\n",
    "\n",
    "#저장 할 땐 밑의 3줄 필요X\n",
    "# cv2.imshow('img', img) \n",
    "# cv2.waitKey(0) \n",
    "# cv2.destroyAllWindows() \n",
    "\n",
    "#result함수로 저장\n",
    "result = cv2.imwrite('img_save2.png', img)\n",
    "#True가 뜨면 wrokspace내에 흑백사진이 저장\n",
    "print(result)"
   ]
  },
  {
   "cell_type": "code",
   "execution_count": null,
   "id": "34f9ae79-ecc2-4550-9445-a244a31e2758",
   "metadata": {},
   "outputs": [],
   "source": [
    "# 간편 저장시 2줄만 이용해도된다.\n",
    "import cv2\n",
    "img = cv2.imread('img.jpg', cv2.IMREAD_GRAYSCALE) #흑백으로 불러기기\n",
    "cv2.imwrite('img_save.png', img)"
   ]
  },
  {
   "cell_type": "markdown",
   "id": "9fbda492-05dc-4dfd-adb7-09c2282789c8",
   "metadata": {},
   "source": [
    "## 동영상 저장"
   ]
  },
  {
   "cell_type": "code",
   "execution_count": 12,
   "id": "d0a00fb4-4d3c-4690-b2a0-fc13e7bbabb3",
   "metadata": {},
   "outputs": [
    {
     "name": "stdout",
     "output_type": "stream",
     "text": [
      "더 이상 가져올 프레임이 없어요\n"
     ]
    }
   ],
   "source": [
    "import cv2\n",
    "cap = cv2.VideoCapture('video.mp4')\n",
    "\n",
    "#코덱 정의\n",
    "fourcc = cv2.VideoWriter_fourcc(*'DIVX') # ('D', 'I', 'V', 'X') \n",
    "\n",
    "#영상의 똑같은 크기의 FPS불러기\n",
    "# 크기 줄이고 싶으면 뒤에 //2 적용, \n",
    "original_width = round(cap.get(cv2.CAP_PROP_FRAME_WIDTH))\n",
    "original_height = round(cap.get(cv2.CAP_PROP_FRAME_HEIGHT))\n",
    "width = original_width //2\n",
    "height = original_height\n",
    "# 영상재생 속도 / *2 : 영상 재생 속도가 2배\n",
    "fps = cap.get(cv2.CAP_PROP_FPS)\n",
    "\n",
    "#out : 어떤 형태로 어떤 파일로 동영상 저장할지 정의\n",
    "#저장 파일명, 코덱, FPS, 크기, (Width, Height) \n",
    "out = cv2.VideoWriter('output.avi', fourcc, fps, (width,height))\n",
    "\n",
    "#반복문 안에서 불러온 프레임을 그대로 저장\n",
    "while cap.isOpened(): \n",
    "    ret, frame = cap.read()\n",
    "    \n",
    "    if not ret:\n",
    "        print('더 이상 가져올 프레임이 없어요')\n",
    "        break # braek로 반복문 탈출\n",
    "    out.write(frame) #정의된 코덱, 속도, 크기, 형태로 저장\n",
    "    cv2.imshow('video', frame)\n",
    "    if cv2.waitKey(1) == ord('q'):\n",
    "        break\n",
    "\n",
    "out.release() #자원 해체 \n",
    "cap.release() \n",
    "cv2.destroyAllWindows()"
   ]
  },
  {
   "cell_type": "code",
   "execution_count": 9,
   "id": "17fd6cfd-6f06-46d0-80b0-1e5bee7e0761",
   "metadata": {},
   "outputs": [
    {
     "name": "stdout",
     "output_type": "stream",
     "text": [
      "['DIVX']\n",
      "['D', 'I', 'V', 'X']\n"
     ]
    }
   ],
   "source": [
    "codec = 'DIVX' #리스트로 *을써서 기\n",
    "print([codec]) # 그대로 문자열\n",
    "print([*codec]) # D, I, V, X 나눠서 출력"
   ]
  },
  {
   "cell_type": "markdown",
   "id": "b979f020-424b-4a2c-b029-f5bd58cf0788",
   "metadata": {},
   "source": [
    "### width, height, fps 속도 수정"
   ]
  },
  {
   "cell_type": "code",
   "execution_count": 20,
   "id": "3e782022-983a-496f-9a5a-c7e7b8f4e46a",
   "metadata": {},
   "outputs": [
    {
     "name": "stdout",
     "output_type": "stream",
     "text": [
      "더 이상 가져올 프레임이 없어요\n"
     ]
    }
   ],
   "source": [
    "import cv2\n",
    "\n",
    "cap = cv2.VideoCapture('video.mp4')\n",
    "\n",
    "# 코덱 정의\n",
    "fourcc = cv2.VideoWriter_fourcc(*'DIVX')\n",
    "\n",
    "# 원래 프레임 크기 가져오기\n",
    "original_width = round(cap.get(cv2.CAP_PROP_FRAME_WIDTH))\n",
    "original_height = round(cap.get(cv2.CAP_PROP_FRAME_HEIGHT))\n",
    "\n",
    "# 크기 줄이기 (너비는 반으로 줄이고, 높이는 그대로 유지)\n",
    "width = original_width // 2\n",
    "height = original_height\n",
    "\n",
    "# 영상 재생 속도\n",
    "fps = cap.get(cv2.CAP_PROP_FPS) *2\n",
    "\n",
    "# out: 어떤 형태로 어떤 파일로 동영상 저장할지 정의\n",
    "out = cv2.VideoWriter('output.avi', fourcc, fps, (width, height))\n",
    "\n",
    "    \n",
    "# 반복문 안에서 불러온 프레임을 그대로 저장\n",
    "while cap.isOpened():\n",
    "    ret, frame = cap.read()\n",
    "    \n",
    "    if not ret:\n",
    "        print('더 이상 가져올 프레임이 없어요')\n",
    "        break  # break로 반복문 탈출\n",
    "    \n",
    "    # 프레임 크기 조정\n",
    "    resized_frame = cv2.resize(frame, (width, height))\n",
    "    # 정의된 코덱, 속도, 크기, 형태로 저장\n",
    "    out.write(resized_frame)\n",
    "    # 영상 표시\n",
    "    cv2.imshow('video', resized_frame)\n",
    "    \n",
    "    if cv2.waitKey(1) == ord('q'):\n",
    "        break\n",
    "\n",
    "# 자원 해체\n",
    "out.release()\n",
    "cap.release()\n",
    "cv2.destroyAllWindows()\n"
   ]
  },
  {
   "cell_type": "code",
   "execution_count": null,
   "id": "ff708e56-3a81-4d9a-85e4-58d2844de019",
   "metadata": {},
   "outputs": [],
   "source": []
  }
 ],
 "metadata": {
  "kernelspec": {
   "display_name": "Python 3 (ipykernel)",
   "language": "python",
   "name": "python3"
  },
  "language_info": {
   "codemirror_mode": {
    "name": "ipython",
    "version": 3
   },
   "file_extension": ".py",
   "mimetype": "text/x-python",
   "name": "python",
   "nbconvert_exporter": "python",
   "pygments_lexer": "ipython3",
   "version": "3.11.7"
  }
 },
 "nbformat": 4,
 "nbformat_minor": 5
}
