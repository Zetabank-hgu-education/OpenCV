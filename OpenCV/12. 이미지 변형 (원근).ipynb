{
 "cells": [
  {
   "cell_type": "markdown",
   "id": "1ec2dad3-f267-441a-9772-c3b48ebbd290",
   "metadata": {},
   "source": [
    "# 이미지 변형 (원근)"
   ]
  },
  {
   "cell_type": "code",
   "execution_count": null,
   "id": "74e7d7e9-56cb-49c0-b0ae-0945390a014b",
   "metadata": {},
   "outputs": [],
   "source": [
    "#원근 : 멀고 가까운것 / 스마트폰으로 사진을 찍으면 딱 예쁜 직사각형이 안나오고 조금씩 이렇게 좀 삐뚤하게 나오거나 사다리꼴 형태로 나옴\n",
    "# 이런 이미지를 딱 원하는 직사각형 형태로 펼치는 거를 공부한다고 이해하면 됨."
   ]
  },
  {
   "cell_type": "markdown",
   "id": "5a91d91b-f274-4996-9083-927f75f0e4b3",
   "metadata": {},
   "source": [
    "## 사다리꼴 이미지 펼치기"
   ]
  },
  {
   "cell_type": "code",
   "execution_count": 1,
   "id": "6ec53d1f-eb48-49ba-b70e-107e924e02bf",
   "metadata": {},
   "outputs": [],
   "source": [
    "import cv2\n",
    "import numpy as np\n",
    "img = cv2.imread('newspaper.jpg')\n",
    "\n",
    "width, height = (640, 240) # 가로 640, 세로 240 크기로 결과물 출력\n",
    "\n",
    "#원근을 적용하기 위해서는 input값이 필요 : 그림에서 4개의 점을 말함 -> input4개점을 output으로 바꾸는 작업이 필요\n",
    "#4개의 지점을 찾고 이것들을 변화해서 직사각형 형태로 바꿔줌\n",
    "src = np.array([[511, 352], [1008,345], [1122,584], [455,594]], dtype=np.float32) #input 4개 지점\n",
    "#좌상, 우상, 우하, 좌하(시계방향으로 4지점 정의)\n",
    "dst = np.array([[0, 0], [width,0], [width,height], [0,height]], dtype=np.float32) #output 4개 지점\n",
    "\n",
    "#getperspectivetransform : src영역을 dst영역으로 바꾸기위한 변환행렬을 얻는것, 변환matrix를 얻는 것\n",
    "matrix = cv2.getPerspectiveTransform(src, dst) #matrix 얻어옴 -> matrix값을 통해 변환\n",
    "#warpperspective : 변환 행렬값을 적용해가지고 최종 결과 이미지를 얻어오는 것. (result)\n",
    "result = cv2.warpPerspective(img, matrix, (width, height)) # matrix 대로 변환을 함\n",
    "\n",
    "cv2.imshow('img', img)\n",
    "cv2.imshow('result', result)\n",
    "cv2.waitKey(0) \n",
    "cv2.destroyAllWindows() "
   ]
  },
  {
   "cell_type": "code",
   "execution_count": null,
   "id": "5649c50e-3c58-4f9c-a2d3-3eb3c5cb8a73",
   "metadata": {},
   "outputs": [],
   "source": [
    "#magazyn skor surowych w Toszku -> 이부분이 약간 눕혀져있는데 직사각형으로 똑바로 세워놓는 작업 할 예정"
   ]
  },
  {
   "cell_type": "markdown",
   "id": "0acf8fe8-5628-41b4-9d84-f55ce39312ee",
   "metadata": {},
   "source": [
    "## 회전된 이미지 올바르게 세우기"
   ]
  },
  {
   "cell_type": "code",
   "execution_count": null,
   "id": "e971505a-30b7-4317-b1bb-51ad0dee9e4a",
   "metadata": {},
   "outputs": [],
   "source": [
    "# 회전되어있는 이미지를 올바르게 "
   ]
  },
  {
   "cell_type": "code",
   "execution_count": 2,
   "id": "42d1d806-f1ac-40fb-8a82-e086ea93a578",
   "metadata": {},
   "outputs": [],
   "source": [
    "import cv2\n",
    "import numpy as np\n",
    "img = cv2.imread('poker.jpg')\n",
    "\n",
    "#카드를 올바르게 세웠을때 크기 (대충 맞춰봄 카드J로)\n",
    "width, height = (530, 710)\n",
    "\n",
    "#원근을 적용하기 위해서는 input값이 필요 : 그림에서 4개의 점을 말함 -> input4개점을 output으로 바꾸는 작업이 필요\n",
    "#4개의 지점을 찾고 이것들을 변화해서 직사각형 형태로 바꿔줌\n",
    "src = np.array([[702, 143], [1133,414], [726,1007], [276,700]], dtype=np.float32) #input 4개 지점\n",
    "#좌상, 우상, 우하, 좌하(시계방향으로 4지점 정의)\n",
    "dst = np.array([[0, 0], [width,0], [width,height], [0,height]], dtype=np.float32) #output 4개 지점\n",
    "\n",
    "#getperspectivetransform : src영역을 dst영역으로 바꾸기위한 변환행렬을 얻는것, 변환matrix를 얻는 것\n",
    "matrix = cv2.getPerspectiveTransform(src, dst) #matrix 얻어옴 -> matrix값을 통해 변환\n",
    "#warpperspective : 변환 행렬값을 적용해가지고 최종 결과 이미지를 얻어오는 것. (result)\n",
    "result = cv2.warpPerspective(img, matrix, (width, height)) # matrix 대로 변환을 함\n",
    "\n",
    "cv2.imshow('img', img)\n",
    "cv2.imshow('result', result)\n",
    "cv2.waitKey(0) \n",
    "cv2.destroyAllWindows() "
   ]
  },
  {
   "cell_type": "code",
   "execution_count": null,
   "id": "2949c9c0-18a3-436b-9a4e-30052344b783",
   "metadata": {},
   "outputs": [],
   "source": []
  }
 ],
 "metadata": {
  "kernelspec": {
   "display_name": "Python 3 (ipykernel)",
   "language": "python",
   "name": "python3"
  },
  "language_info": {
   "codemirror_mode": {
    "name": "ipython",
    "version": 3
   },
   "file_extension": ".py",
   "mimetype": "text/x-python",
   "name": "python",
   "nbconvert_exporter": "python",
   "pygments_lexer": "ipython3",
   "version": "3.11.7"
  }
 },
 "nbformat": 4,
 "nbformat_minor": 5
}
