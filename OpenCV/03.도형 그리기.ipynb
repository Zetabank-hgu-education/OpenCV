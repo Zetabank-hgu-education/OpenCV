{
 "cells": [
  {
   "cell_type": "markdown",
   "id": "70857a9f-ada6-4335-8864-6bce0e88621e",
   "metadata": {},
   "source": [
    "# 3. 도형 그리기"
   ]
  },
  {
   "cell_type": "markdown",
   "id": "3d82322e-df15-46ca-bae6-ed4fb627769f",
   "metadata": {},
   "source": [
    "## 빈스케치북 만들기"
   ]
  },
  {
   "cell_type": "code",
   "execution_count": null,
   "id": "adad5bdf-c070-4455-8329-db0208ed8ed7",
   "metadata": {},
   "outputs": [],
   "source": [
    "import cv2\n",
    "import numpy as np\n",
    "\n",
    "#세로 480 x 가로 640, 3 channel(RGB)에 해당하는 스케치북 만들기\n",
    "img = np.zeros((460, 640, 3), dtype=np.uint8) # 460,640해당하는 공간을 만들고 모두 0인 값으로 채움 / 검정색 화면 img 출력 \n",
    "cv2.imshow('img', img)\n",
    "cv2.waitKey(0)\n",
    "cv2.destroyAllWindows()"
   ]
  },
  {
   "cell_type": "code",
   "execution_count": 16,
   "id": "cdb4f391-c1b4-46c6-a847-f77e81192f1c",
   "metadata": {},
   "outputs": [],
   "source": [
    "import cv2\n",
    "import numpy as np\n",
    "\n",
    "#세로 480 x 가로 640, 3 channel(RGB)에 해당하는 스케치북 만들기\n",
    "img = np.zeros((460, 640, 3), dtype=np.uint8) # 460,640해당하는 공간을 만들고 모두 0인 값으로 채움 / \n",
    "img[:] = (255, 0, 0) # opencv에서는 RGB->BGR로 표시 / B만 255로 꽉찼고 G,R은0이므로 파란화면 출력 \n",
    "cv2.imshow('img', img)\n",
    "cv2.waitKey(0)\n",
    "cv2.destroyAllWindows()"
   ]
  },
  {
   "cell_type": "code",
   "execution_count": null,
   "id": "b86f86b4-94ba-4486-9ee8-38bb339559ab",
   "metadata": {},
   "outputs": [],
   "source": [
    "import cv2\n",
    "import numpy as np\n",
    "\n",
    "#세로 480 x 가로 640, 3 channel(RGB)에 해당하는 스케치북 만들기\n",
    "img = np.zeros((460, 640, 3), dtype=np.uint8) # 460,640해당하는 공간을 만들고 모두 0인 값으로 채움 / \n",
    "img[:] = (255, 255, 255) # opencv에서는 RGB->BGR로 표시 / 전부 255면 흰색으로 출력\n",
    "cv2.imshow('img', img)\n",
    "cv2.waitKey(0)\n",
    "cv2.destroyAllWindows()"
   ]
  },
  {
   "cell_type": "markdown",
   "id": "6b73b71e-baaf-45b2-9287-72237f218f60",
   "metadata": {},
   "source": [
    "# 일부 영역 색칠"
   ]
  },
  {
   "cell_type": "code",
   "execution_count": 1,
   "id": "65c0e3c7-39ed-4bcd-bc69-da9e6643f8da",
   "metadata": {},
   "outputs": [],
   "source": [
    "import cv2\n",
    "import numpy as np\n",
    "\n",
    "img = np.zeros((460, 640, 3), dtype=np.uint8) \n",
    "#세로, 가로 범위의 픽셀까지 어떠한 색으로 색칠할지 범위 설정\n",
    "img[100:200, 200:300] = (255, 255, 255) \n",
    "cv2.imshow('img', img)\n",
    "cv2.waitKey(0)\n",
    "cv2.destroyAllWindows()"
   ]
  },
  {
   "cell_type": "markdown",
   "id": "0ff6398a-e777-473b-a7ec-0e18a71e8b13",
   "metadata": {},
   "source": [
    "# 직선\n",
    "직선의 종류 (line tyep)\n",
    "1. cv2.Line_4 : 상하좌우 4 방향으로 연결된 선\n",
    "2. cv2.Line_8 : 대각선을 포함한 8 방향으로 연결된 선 (기본값)\n",
    "3. cv2.Liine_AA : 부드러운 선(anti-ailasing) "
   ]
  },
  {
   "cell_type": "code",
   "execution_count": 12,
   "id": "274db882-ef6f-4d46-a2f5-1a34e73f2e92",
   "metadata": {},
   "outputs": [],
   "source": [
    "import cv2\n",
    "import numpy as np\n",
    "\n",
    "img = np.zeros((460, 640, 3), dtype=np.uint8) \n",
    "\n",
    "COLOR = (0, 255, 255) # BGR : Yellow\n",
    "THICKNESS = 3 #두께\n",
    "\n",
    "#그릴 위치, 시작점, 끝점, 색깔, 두꼐, 선 종류\n",
    "cv2.line(img, (50, 100), (400, 50), COLOR, THICKNESS, cv2.LINE_8)\n",
    "cv2.line(img, (50, 200), (400, 150), COLOR, THICKNESS, cv2.LINE_4) \n",
    "cv2.line(img, (50, 300), (400, 250), COLOR, THICKNESS, cv2.LINE_AA) \n",
    "\n",
    "cv2.imshow('img', img)\n",
    "cv2.waitKey(0)\n",
    "cv2.destroyAllWindows()"
   ]
  },
  {
   "cell_type": "markdown",
   "id": "fd337781-a7b0-4022-a039-62dd731d64da",
   "metadata": {},
   "source": [
    "# 원"
   ]
  },
  {
   "cell_type": "code",
   "execution_count": 17,
   "id": "a042f051-a0b7-4258-bb8a-450b6217a5e3",
   "metadata": {},
   "outputs": [],
   "source": [
    "import cv2\n",
    "import numpy as np\n",
    "\n",
    "img = np.zeros((460, 640, 3), dtype=np.uint8) \n",
    "\n",
    "COLOR = (255, 255, 0) # BGR : 옥색\n",
    "RADIUS = 50 #반지름\n",
    "THICKNESS = 10 #두께\n",
    "\n",
    "# 그릴 위치, 원의 중심점, 반지름, 색깔, 두께, 선종류\n",
    "cv2.circle(img, (200, 100), RADIUS, COLOR, THICKNESS, cv2.LINE_AA) # 속이 빈 원\n",
    "cv2.circle(img, (400, 100), RADIUS, COLOR, cv2.FILLED, cv2.LINE_AA) # 꽉찬 원\n",
    "\n",
    "\n",
    "cv2.imshow('img', img)\n",
    "cv2.waitKey(0)\n",
    "cv2.destroyAllWindows()"
   ]
  },
  {
   "cell_type": "markdown",
   "id": "a7476ad3-153f-4f02-b571-6bc999bce7da",
   "metadata": {},
   "source": [
    "# 사각형"
   ]
  },
  {
   "cell_type": "code",
   "execution_count": 4,
   "id": "57439f48-ca6d-41ee-90c1-5828ba6cb163",
   "metadata": {},
   "outputs": [],
   "source": [
    "import cv2\n",
    "import numpy as np\n",
    "\n",
    "img = np.zeros((460, 640, 3), dtype=np.uint8) \n",
    "\n",
    "COLOR = (0, 255, 0) # BGR : 옥색\n",
    "THICKNESS = 3 #두께\n",
    "\n",
    "# 그릴 위치, 왼쪽 위 좌표, 오른쪽 아래 좌표, 반지름, 색깔, 두께\n",
    "cv2.rectangle(img, (100, 100), (200,200), COLOR, THICKNESS) # 속이 빈 사각형 \n",
    "cv2.rectangle(img, (300, 100), (400,300), COLOR, cv2.FILLED) # 꽉찬 사각형\n",
    "\n",
    "cv2.imshow('img', img)\n",
    "cv2.waitKey(0)\n",
    "cv2.destroyAllWindows()"
   ]
  }
 ],
 "metadata": {
  "kernelspec": {
   "display_name": "Python 3 (ipykernel)",
   "language": "python",
   "name": "python3"
  },
  "language_info": {
   "codemirror_mode": {
    "name": "ipython",
    "version": 3
   },
   "file_extension": ".py",
   "mimetype": "text/x-python",
   "name": "python",
   "nbconvert_exporter": "python",
   "pygments_lexer": "ipython3",
   "version": "3.11.7"
  }
 },
 "nbformat": 4,
 "nbformat_minor": 5
}
