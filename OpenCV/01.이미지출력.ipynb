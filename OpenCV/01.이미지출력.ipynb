{
 "cells": [
  {
   "cell_type": "markdown",
   "id": "2b518713-716b-4451-8d2d-5d666d31cb1f",
   "metadata": {},
   "source": [
    "# 환경 설정\n",
    "Anaconda Prompt 에서 다음 명령 수행\n",
    "> pip install opencv-python"
   ]
  },
  {
   "cell_type": "code",
   "execution_count": 3,
   "id": "b8e868b4-b87c-483a-aa81-58b8f2ef3cc1",
   "metadata": {},
   "outputs": [
    {
     "name": "stdout",
     "output_type": "stream",
     "text": [
      "Collecting opencv-python\n",
      "  Downloading opencv_python-4.10.0.84-cp37-abi3-win_amd64.whl.metadata (20 kB)\n",
      "Requirement already satisfied: numpy>=1.21.2 in c:\\users\\zeta\\anaconda3\\lib\\site-packages (from opencv-python) (1.26.4)\n",
      "Downloading opencv_python-4.10.0.84-cp37-abi3-win_amd64.whl (38.8 MB)\n",
      "   ---------------------------------------- 0.0/38.8 MB ? eta -:--:--\n",
      "   ---------------------------------------- 0.0/38.8 MB ? eta -:--:--\n",
      "   ---------------------------------------- 0.4/38.8 MB 4.5 MB/s eta 0:00:09\n",
      "   - -------------------------------------- 1.2/38.8 MB 9.4 MB/s eta 0:00:04\n",
      "   -- ------------------------------------- 2.0/38.8 MB 11.8 MB/s eta 0:00:04\n",
      "   --- ------------------------------------ 3.2/38.8 MB 14.7 MB/s eta 0:00:03\n",
      "   ---- ----------------------------------- 4.2/38.8 MB 15.6 MB/s eta 0:00:03\n",
      "   ----- ---------------------------------- 5.4/38.8 MB 17.1 MB/s eta 0:00:02\n",
      "   ------ --------------------------------- 6.7/38.8 MB 18.7 MB/s eta 0:00:02\n",
      "   -------- ------------------------------- 8.3/38.8 MB 20.3 MB/s eta 0:00:02\n",
      "   --------- ------------------------------ 9.5/38.8 MB 21.0 MB/s eta 0:00:02\n",
      "   --------- ------------------------------ 9.6/38.8 MB 19.9 MB/s eta 0:00:02\n",
      "   --------- ------------------------------ 9.7/38.8 MB 18.2 MB/s eta 0:00:02\n",
      "   ---------- ----------------------------- 9.9/38.8 MB 17.1 MB/s eta 0:00:02\n",
      "   ---------- ----------------------------- 10.3/38.8 MB 16.8 MB/s eta 0:00:02\n",
      "   ----------- ---------------------------- 11.3/38.8 MB 18.2 MB/s eta 0:00:02\n",
      "   ------------- -------------------------- 12.8/38.8 MB 18.7 MB/s eta 0:00:02\n",
      "   -------------- ------------------------- 14.4/38.8 MB 19.9 MB/s eta 0:00:02\n",
      "   ---------------- ----------------------- 16.0/38.8 MB 20.5 MB/s eta 0:00:02\n",
      "   ------------------ --------------------- 17.7/38.8 MB 21.1 MB/s eta 0:00:02\n",
      "   ------------------- -------------------- 19.1/38.8 MB 21.1 MB/s eta 0:00:01\n",
      "   ------------------- -------------------- 19.4/38.8 MB 19.9 MB/s eta 0:00:01\n",
      "   --------------------- ------------------ 20.4/38.8 MB 26.2 MB/s eta 0:00:01\n",
      "   ---------------------- ----------------- 22.1/38.8 MB 28.5 MB/s eta 0:00:01\n",
      "   ------------------------ --------------- 24.1/38.8 MB 29.8 MB/s eta 0:00:01\n",
      "   -------------------------- ------------- 25.9/38.8 MB 31.2 MB/s eta 0:00:01\n",
      "   ---------------------------- ----------- 27.7/38.8 MB 31.1 MB/s eta 0:00:01\n",
      "   ------------------------------ --------- 29.8/38.8 MB 38.5 MB/s eta 0:00:01\n",
      "   -------------------------------- ------- 31.4/38.8 MB 38.5 MB/s eta 0:00:01\n",
      "   ---------------------------------- ----- 33.5/38.8 MB 40.9 MB/s eta 0:00:01\n",
      "   ------------------------------------ --- 35.4/38.8 MB 40.9 MB/s eta 0:00:01\n",
      "   -------------------------------------- - 37.2/38.8 MB 40.9 MB/s eta 0:00:01\n",
      "   ---------------------------------------  38.8/38.8 MB 40.9 MB/s eta 0:00:01\n",
      "   ---------------------------------------  38.8/38.8 MB 40.9 MB/s eta 0:00:01\n",
      "   ---------------------------------------- 38.8/38.8 MB 32.8 MB/s eta 0:00:00\n",
      "Installing collected packages: opencv-python\n",
      "Successfully installed opencv-python-4.10.0.84\n",
      "Note: you may need to restart the kernel to use updated packages.\n"
     ]
    }
   ],
   "source": [
    "pip install opencv-python"
   ]
  },
  {
   "cell_type": "code",
   "execution_count": 4,
   "id": "a0b83a19-0908-465d-9be0-5f9a2378840a",
   "metadata": {},
   "outputs": [
    {
     "data": {
      "text/plain": [
       "'4.10.0'"
      ]
     },
     "execution_count": 4,
     "metadata": {},
     "output_type": "execute_result"
    }
   ],
   "source": [
    "import cv2\n",
    "cv2.__version__"
   ]
  },
  {
   "cell_type": "markdown",
   "id": "16e266a2-2c91-4efa-9030-55c4b39ba9a7",
   "metadata": {},
   "source": [
    "# OpenCV(computer Vison)\n",
    "다양한 이미지 / 동영상 처리에 사용되는 오픈소스 라이브러리"
   ]
  },
  {
   "cell_type": "markdown",
   "id": "e2420a9d-fdb4-455e-9073-fb1edf4288c2",
   "metadata": {},
   "source": [
    "# 1. 이미지 출력"
   ]
  },
  {
   "cell_type": "code",
   "execution_count": 1,
   "id": "a1cfd685-37cb-4a7d-b440-6611686121e9",
   "metadata": {},
   "outputs": [],
   "source": [
    "import cv2\n",
    "img = cv2.imread('img.jpg') #해당 경로의 파일 읽어오기\n",
    "cv2.imshow('img', img) # img라는 이름의 창에 img를 표시\n",
    "cv2.waitKey(0) # 지정된 시간동안 사용자 키 입력 대기\n",
    "cv2.destroyAllWindows() #모든창 닫기"
   ]
  },
  {
   "cell_type": "code",
   "execution_count": 2,
   "id": "5a381183-1b32-4aa4-9670-2dfdd344db76",
   "metadata": {},
   "outputs": [
    {
     "name": "stdout",
     "output_type": "stream",
     "text": [
      "113\n"
     ]
    }
   ],
   "source": [
    "import cv2\n",
    "img = cv2.imread('img.jpg') #해당 경로의 파일 읽어오기\n",
    "cv2.imshow('img', img) # img라는 이름의 창에 img를 표시\n",
    "key = cv2.waitKey(0) # 지정된 시간동안 사용자 키 입력 대기\n",
    "print(key)\n",
    "cv2.destroyAllWindows() #모든창 닫기"
   ]
  },
  {
   "cell_type": "markdown",
   "id": "11b425d8-f2c6-448f-82af-44ebde65c01a",
   "metadata": {},
   "source": [
    "## 읽기 옵션 (3가지 옵션)\n",
    "1. cv2.IMREAD_COLOR : 컬러 이미지 출력, PNG는 투명도를 가질수 있는데 투명영역은 무시 (기본값으로 설정되어 출력)\n",
    "1. cv2.GRAYSCALE : 흑백 이미지 출력\n",
    "1. cv2.UNCHANGED : 바꾸지 않는 이미지로 투명 영역까지 포함하여 호출"
   ]
  },
  {
   "cell_type": "code",
   "execution_count": 3,
   "id": "e054f1d6-263e-4076-8834-1850a7884d65",
   "metadata": {},
   "outputs": [],
   "source": [
    "import cv2\n",
    "img_color = cv2.imread('img.jpg', cv2.IMREAD_COLOR)\n",
    "img_gray = cv2.imread('img.jpg', cv2.IMREAD_GRAYSCALE)\n",
    "img_unchanged = cv2.imread('img.jpg', cv2.IMREAD_UNCHANGED)\n",
    "\n",
    "cv2.imshow('img_color', img_color) \n",
    "cv2.imshow('img_gray', img_gray)\n",
    "cv2.imshow('img_unchanged', img_unchanged)\n",
    "\n",
    "cv2.waitKey(0) \n",
    "cv2.destroyAllWindows()"
   ]
  },
  {
   "cell_type": "markdown",
   "id": "2c223a2f-8339-4b92-8fb7-600c3be4ba38",
   "metadata": {},
   "source": [
    "## Shape\n",
    "이미지의 height, width, channel정보"
   ]
  },
  {
   "cell_type": "code",
   "execution_count": 4,
   "id": "3ae38da4-c02a-4f4d-a131-fc51dfe04fd3",
   "metadata": {},
   "outputs": [
    {
     "data": {
      "text/plain": [
       "(391, 640, 3)"
      ]
     },
     "execution_count": 4,
     "metadata": {},
     "output_type": "execute_result"
    }
   ],
   "source": [
    "import cv2\n",
    "img = cv2.imread('img.jpg')\n",
    "img.shape #세로, 가로, channel(RGB3가지 가짐) / 투명영역에 대한 이미지 처리 할 때 알파값(투명도)까지 포함해서 4"
   ]
  }
 ],
 "metadata": {
  "kernelspec": {
   "display_name": "Python 3 (ipykernel)",
   "language": "python",
   "name": "python3"
  },
  "language_info": {
   "codemirror_mode": {
    "name": "ipython",
    "version": 3
   },
   "file_extension": ".py",
   "mimetype": "text/x-python",
   "name": "python",
   "nbconvert_exporter": "python",
   "pygments_lexer": "ipython3",
   "version": "3.11.7"
  }
 },
 "nbformat": 4,
 "nbformat_minor": 5
}
