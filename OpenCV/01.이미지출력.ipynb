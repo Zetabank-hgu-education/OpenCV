{
 "cells": [
  {
   "cell_type": "markdown",
   "id": "2b518713-716b-4451-8d2d-5d666d31cb1f",
   "metadata": {},
   "source": [
    "# 환경 설정\n",
    "Anaconda Prompt 에서 다음 명령 수행\n",
    "> pip install opencv-python"
   ]
  },
  {
   "cell_type": "code",
   "execution_count": null,
   "id": "b8e868b4-b87c-483a-aa81-58b8f2ef3cc1",
   "metadata": {},
   "outputs": [],
   "source": [
    "pip install opencv-python"
   ]
  },
  {
   "cell_type": "code",
   "execution_count": null,
   "id": "a0b83a19-0908-465d-9be0-5f9a2378840a",
   "metadata": {},
   "outputs": [],
   "source": [
    "import cv2\n",
    "cv2.__version__"
   ]
  },
  {
   "cell_type": "markdown",
   "id": "16e266a2-2c91-4efa-9030-55c4b39ba9a7",
   "metadata": {},
   "source": [
    "# OpenCV(computer Vison)\n",
    "다양한 이미지 / 동영상 처리에 사용되는 오픈소스 라이브러리"
   ]
  },
  {
   "cell_type": "markdown",
   "id": "e2420a9d-fdb4-455e-9073-fb1edf4288c2",
   "metadata": {},
   "source": [
    "# 1. 이미지 출력"
   ]
  },
  {
   "cell_type": "code",
   "execution_count": 6,
   "id": "a1cfd685-37cb-4a7d-b440-6611686121e9",
   "metadata": {},
   "outputs": [],
   "source": [
    "import cv2\n",
    "img = cv2.imread('img.jpg') #해당 경로의 파일 읽어오기\n",
    "cv2.imshow('img', img) # img라는 이름의 창에 img를 표시\n",
    "cv2.waitKey(0) # 지정된 시간동안 사용자 키 입력 대기\n",
    "cv2.destroyAllWindows() #모든창 닫기"
   ]
  },
  {
   "cell_type": "code",
   "execution_count": null,
   "id": "5a381183-1b32-4aa4-9670-2dfdd344db76",
   "metadata": {},
   "outputs": [],
   "source": [
    "import cv2\n",
    "img = cv2.imread('img.jpg') #해당 경로의 파일 읽어오기\n",
    "cv2.imshow('img', img) # img라는 이름의 창에 img를 표시\n",
    "key = cv2.waitKey(0) # 지정된 시간동안 사용자 키 입력 대기\n",
    "print(key)\n",
    "cv2.destroyAllWindows() #모든창 닫기"
   ]
  },
  {
   "cell_type": "markdown",
   "id": "11b425d8-f2c6-448f-82af-44ebde65c01a",
   "metadata": {},
   "source": [
    "## 읽기 옵션 (3가지 옵션)\n",
    "1. cv2.IMREAD_COLOR : 컬러 이미지 출력, PNG는 투명도를 가질수 있는데 투명영역은 무시 (기본값으로 설정되어 출력)\n",
    "1. cv2.GRAYSCALE : 흑백 이미지 출력\n",
    "1. cv2.UNCHANGED : 바꾸지 않는 이미지로 투명 영역까지 포함하여 호출"
   ]
  },
  {
   "cell_type": "code",
   "execution_count": 9,
   "id": "e054f1d6-263e-4076-8834-1850a7884d65",
   "metadata": {},
   "outputs": [],
   "source": [
    "import cv2\n",
    "img_color = cv2.imread('img.jpg', cv2.IMREAD_COLOR)\n",
    "img_gray = cv2.imread('img.jpg', cv2.IMREAD_GRAYSCALE)\n",
    "img_unchanged = cv2.imread('img.jpg', cv2.IMREAD_UNCHANGED)\n",
    "\n",
    "cv2.imshow('img_color', img_color) \n",
    "cv2.imshow('img_gray', img_gray)\n",
    "cv2.imshow('img_unchanged', img_unchanged)\n",
    "\n",
    "cv2.waitKey(0) \n",
    "cv2.destroyAllWindows()"
   ]
  },
  {
   "cell_type": "markdown",
   "id": "2c223a2f-8339-4b92-8fb7-600c3be4ba38",
   "metadata": {},
   "source": [
    "## Shape\n",
    "이미지의 height, width, channel정보"
   ]
  },
  {
   "cell_type": "code",
   "execution_count": null,
   "id": "3ae38da4-c02a-4f4d-a131-fc51dfe04fd3",
   "metadata": {},
   "outputs": [],
   "source": [
    "import cv2\n",
    "img = cv2.imread('img.jpg')\n",
    "img.shape #세로, 가로, channel(RGB3가지 가짐) / 투명영역에 대한 이미지 처리 할 때 알파값(투명도)까지 포함해서 4"
   ]
  }
 ],
 "metadata": {
  "kernelspec": {
   "display_name": "Python 3 (ipykernel)",
   "language": "python",
   "name": "python3"
  },
  "language_info": {
   "codemirror_mode": {
    "name": "ipython",
    "version": 3
   },
   "file_extension": ".py",
   "mimetype": "text/x-python",
   "name": "python",
   "nbconvert_exporter": "python",
   "pygments_lexer": "ipython3",
   "version": "3.11.9"
  }
 },
 "nbformat": 4,
 "nbformat_minor": 5
}
