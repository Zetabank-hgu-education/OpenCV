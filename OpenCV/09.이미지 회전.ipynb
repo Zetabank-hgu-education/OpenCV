{
 "cells": [
  {
   "cell_type": "markdown",
   "id": "3218ff2d-359e-453c-95bb-0520f6840900",
   "metadata": {},
   "source": [
    "# 9. 이미지 회전"
   ]
  },
  {
   "cell_type": "markdown",
   "id": "3ca01723-66b7-4a68-9f71-b51e4f2d7cd2",
   "metadata": {},
   "source": [
    "## 시계 방향 90도 회전"
   ]
  },
  {
   "cell_type": "code",
   "execution_count": 1,
   "id": "14e0baa9-779e-4595-9a1b-6c6aa80191f8",
   "metadata": {},
   "outputs": [],
   "source": [
    "import cv2\n",
    "img = cv2.imread('img.jpg')\n",
    "#시계방향으로 90도 돌리는 변수 및 함수 : rotate \n",
    "rotate_90 = cv2.rotate(img, cv2.ROTATE_90_CLOCKWISE) #시계 방향으로 90도 회전 \n",
    "cv2.imshow('img', img) \n",
    "cv2.imshow('rotate_90', rotate_90) \n",
    "cv2.waitKey(0) \n",
    "cv2.destroyAllWindows() "
   ]
  },
  {
   "cell_type": "markdown",
   "id": "1c0cac69-96ac-49b9-b2dc-2066d754be38",
   "metadata": {},
   "source": [
    "## 180도 회전 "
   ]
  },
  {
   "cell_type": "code",
   "execution_count": 2,
   "id": "5606fa32-64eb-44e2-9122-89f73740fb99",
   "metadata": {},
   "outputs": [],
   "source": [
    "import cv2\n",
    "img = cv2.imread('img.jpg')\n",
    "#시계방향으로 90도 돌리는 변수 및 함수 : rotate \n",
    "rotate_180 = cv2.rotate(img, cv2.ROTATE_180) #시계 방향으로 180도 회전 \n",
    "cv2.imshow('img', img) \n",
    "cv2.imshow('rotate_180', rotate_180) \n",
    "cv2.waitKey(0) \n",
    "cv2.destroyAllWindows() "
   ]
  },
  {
   "cell_type": "markdown",
   "id": "cc426dcb-2d81-4a5b-91eb-db399e953b97",
   "metadata": {},
   "source": [
    "## 시계 반대 방향 90도 회전"
   ]
  },
  {
   "cell_type": "code",
   "execution_count": null,
   "id": "598cacc0-85aa-4f36-94fc-c6df44faecda",
   "metadata": {},
   "outputs": [],
   "source": [
    "import cv2\n",
    "img = cv2.imread('img.jpg')\n",
    "#시계방향으로 90도 돌리는 변수 및 함수 : rotate \n",
    "rotate_270 = cv2.rotate(img, cv2.ROTATE_90_COUNTERCLOCKWISE) #시계 반대 방향으로 90도 회전  \n",
    "cv2.imshow('img', img) \n",
    "cv2.imshow('rotate_270', rotate_270) \n",
    "cv2.waitKey(0) \n",
    "cv2.destroyAllWindows() "
   ]
  }
 ],
 "metadata": {
  "kernelspec": {
   "display_name": "Python 3 (ipykernel)",
   "language": "python",
   "name": "python3"
  },
  "language_info": {
   "codemirror_mode": {
    "name": "ipython",
    "version": 3
   },
   "file_extension": ".py",
   "mimetype": "text/x-python",
   "name": "python",
   "nbconvert_exporter": "python",
   "pygments_lexer": "ipython3",
   "version": "3.11.7"
  }
 },
 "nbformat": 4,
 "nbformat_minor": 5
}
