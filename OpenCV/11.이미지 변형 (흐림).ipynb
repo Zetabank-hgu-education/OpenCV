{
 "cells": [
  {
   "cell_type": "markdown",
   "id": "4474bc7b-deea-4e38-adc4-6d7208922e1b",
   "metadata": {},
   "source": [
    "# 11. 이미지 변형 (흐림)"
   ]
  },
  {
   "cell_type": "markdown",
   "id": "e822b84c-a7d2-417c-b9b1-35a5bfe2c8f5",
   "metadata": {},
   "source": [
    "## 가아시안 블러\n"
   ]
  },
  {
   "cell_type": "markdown",
   "id": "85f0f6e4-aa12-4152-a377-d8383b8698be",
   "metadata": {},
   "source": [
    "### 커널 사이즈 변화에 따른 흐림"
   ]
  },
  {
   "cell_type": "code",
   "execution_count": null,
   "id": "02d95475-e479-4f87-b206-624f6cb68f6a",
   "metadata": {},
   "outputs": [],
   "source": [
    "# 블러처리 : 의도적으로 흐리게하는 이유는 정보를 이렇게 조정함으로써 외곽선 검출같은 작업을 보다 단순하게 처리 할수 있기 때문\n",
    "# 가우시안 블러 : 이미지를 흐리게 하면서도 노이즈도 제거, 이미지 연산이 필요할때보다 빠르고 정확하게 계산 가능\n"
   ]
  },
  {
   "cell_type": "code",
   "execution_count": 1,
   "id": "e6baa3f3-3320-410f-9470-963fe302ba32",
   "metadata": {},
   "outputs": [],
   "source": [
    "import cv2\n",
    "img = cv2.imread('img.jpg')\n",
    "\n",
    "#kernel size : 보통 양수의 홀수로 지정 : (3,3), (5,5), (7,7) 이렇게 3개가 커널에 대한 우수한 성능을 보여줌\n",
    "kerneal_3 = cv2.GaussianBlur(img, (3,3), 0) # 맨뒤에 0은 표준편차 (시그마x)\n",
    "kerneal_5 = cv2.GaussianBlur(img, (5,5), 0)\n",
    "kerneal_7 = cv2.GaussianBlur(img, (7,7), 0)\n",
    "\n",
    "cv2.imshow('img', img)\n",
    "cv2.imshow('kerneal_3', kerneal_3)\n",
    "cv2.imshow('kerneal_5', kerneal_5)\n",
    "cv2.imshow('kerneal_7', kerneal_7)\n",
    "cv2.waitKey(0) \n",
    "cv2.destroyAllWindows() "
   ]
  },
  {
   "cell_type": "markdown",
   "id": "1294b29b-c137-41b9-903c-a79c5dc0368a",
   "metadata": {},
   "source": [
    "### 표준 편차 변화에 따른 흐림"
   ]
  },
  {
   "cell_type": "code",
   "execution_count": null,
   "id": "677dfc63-cca9-42d5-b11e-ee277be82a34",
   "metadata": {},
   "outputs": [],
   "source": [
    "import cv2\n",
    "img = cv2.imread('img.jpg')\n",
    "\n",
    "#kernel size : 보통 양수의 홀수로 지정 : (3,3), (5,5), (7,7) 이렇게 3개가 커널에 대한 우수한 성능을 보여줌\n",
    "sigma_1= cv2.GaussianBlur(img, (0,0), 1) # 맨뒤에 0은 표준편차 (시그마x) : 가우시간 커널의 x방향의 표준편차 값\n",
    "sigma_2= cv2.GaussianBlur(img, (0,0), 2)\n",
    "sigma_3= cv2.GaussianBlur(img, (0,0), 3)\n",
    "\n",
    "cv2.imshow('img', img)\n",
    "cv2.imshow('sigma_1', sigma_1)\n",
    "cv2.imshow('sigma_2', sigma_2)\n",
    "cv2.imshow('sigma_3', sigma_3)\n",
    "cv2.waitKey(0)\n",
    "cv2.destroyAllWindows() \n",
    "\n",
    "#kernel때보타 sigma를 이용하였을 때 blur처리가 많이 적용되었다"
   ]
  },
  {
   "cell_type": "code",
   "execution_count": null,
   "id": "872db254-874a-4f23-a366-54c36262c49c",
   "metadata": {},
   "outputs": [],
   "source": []
  },
  {
   "cell_type": "code",
   "execution_count": null,
   "id": "e3e29b87-6f67-4b2a-b11c-939f962f39e0",
   "metadata": {},
   "outputs": [],
   "source": []
  },
  {
   "cell_type": "code",
   "execution_count": null,
   "id": "14b952ec-0539-4e8f-9cb2-f8a8ba8c13be",
   "metadata": {},
   "outputs": [],
   "source": []
  }
 ],
 "metadata": {
  "kernelspec": {
   "display_name": "Python 3 (ipykernel)",
   "language": "python",
   "name": "python3"
  },
  "language_info": {
   "codemirror_mode": {
    "name": "ipython",
    "version": 3
   },
   "file_extension": ".py",
   "mimetype": "text/x-python",
   "name": "python",
   "nbconvert_exporter": "python",
   "pygments_lexer": "ipython3",
   "version": "3.11.7"
  }
 },
 "nbformat": 4,
 "nbformat_minor": 5
}
