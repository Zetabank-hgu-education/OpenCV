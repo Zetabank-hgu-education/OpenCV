{
 "cells": [
  {
   "cell_type": "markdown",
   "id": "7c311894-9665-48ac-9a16-0af1efce41cb",
   "metadata": {
    "jupyter": {
     "source_hidden": true
    }
   },
   "source": [
    "## 6. 크기 조정"
   ]
  },
  {
   "cell_type": "markdown",
   "id": "81e6c00b-5696-4de5-8620-cb8bdff821f0",
   "metadata": {},
   "source": [
    "# 이미지"
   ]
  },
  {
   "cell_type": "markdown",
   "id": "e9362c8a-db7b-40e7-99dd-7d90cea9d55d",
   "metadata": {},
   "source": [
    "고정 크기로 설정"
   ]
  },
  {
   "cell_type": "code",
   "execution_count": 1,
   "id": "5b2ff41f-dda4-4d5a-afc8-c1efdaa02393",
   "metadata": {},
   "outputs": [],
   "source": [
    "# 이미지나 동영상의 프레임을 자유자재로 키웠다가 줄이기 가능\n",
    "import cv2\n",
    "#width, height 고정 크기 이미지\n",
    "img = cv2.imread('img.jpg')\n",
    "#width, heigh 바뀐 크기 이미지\n",
    "dst = cv2.resize(img, (400, 500))   \n",
    "\n",
    "cv2.imshow('img', img) #원본 크기 출력\n",
    "cv2.imshow('resize', dst) # 바뀐 크기 출력\n",
    "cv2.waitKey(0)\n",
    "cv2.destroyAllWindows()"
   ]
  },
  {
   "cell_type": "markdown",
   "id": "422f34de-8fe9-4c0b-a188-0c9ff4fcb1d6",
   "metadata": {},
   "source": [
    "비율로 설정"
   ]
  },
  {
   "cell_type": "code",
   "execution_count": 2,
   "id": "1299e1d1-a6d3-4348-b76f-cc9956656f44",
   "metadata": {},
   "outputs": [],
   "source": [
    "# 0.5배로 줄여, 2배로 키워 등\n",
    "\n",
    "import cv2\n",
    "img = cv2.imread('img.jpg')\n",
    "dst = cv2.resize(img, None, fx=0.5, fy=0.5) #x,y 비율 정의\n",
    "\n",
    "cv2.imshow('img', img) #원본 크기\n",
    "cv2.imshow('resize', dst) # 바뀐 크기\n",
    "cv2.waitKey(0)\n",
    "cv2.destroyAllWindows()"
   ]
  },
  {
   "cell_type": "code",
   "execution_count": 2,
   "id": "5e1229c9-9a1a-4ead-97a9-daf49e724f7d",
   "metadata": {},
   "outputs": [],
   "source": [
    "# 0.5배로 줄여, 2배로 키워 등\n",
    "\n",
    "import cv2\n",
    "img = cv2.imread('img.jpg')\n",
    "#x,y의 비율을 정의\n",
    "dst = cv2.resize(img, None, fx=0.5, fy=0.5) \n",
    "#dst = cv2.resize(img, None, fx=2, fy=2) \n",
    "\n",
    "cv2.imshow('img', img) #원본 크기\n",
    "cv2.imshow('resize', dst) # 바뀐 크기\n",
    "cv2.waitKey(0)\n",
    "cv2.destroyAllWindows()"
   ]
  },
  {
   "cell_type": "markdown",
   "id": "31e9ceff-3858-4900-baf6-7a0a3f09fc86",
   "metadata": {},
   "source": [
    "### 보간법 \n",
    ": 크기를 줄이거나 늘일 때 자연스럽게 처리 하기 위한 방법 / \n",
    "1. cv2.INTER_AREA : 크기 줄일 때 사용\n",
    "2. cv2.INTER_CUBIC : 크기 늘릴 때 사용 ( 속도 느림, 퀄리티 좋음)\n",
    "3. cv2.INTER_LINEAR : 크기 늘릴 때 사용 (기본값)"
   ]
  },
  {
   "cell_type": "code",
   "execution_count": null,
   "id": "13d8ed14-ded1-4053-a121-400760eba170",
   "metadata": {},
   "outputs": [],
   "source": [
    "# 가로 100, 세로100, 이미지를 가로 크기 1000, 세로 크기 1000으로 키워버리면 픽셀이 비게 되는데 그 공간만큼 어떻게 잘 채우지는에 대한 방법\n",
    "\n",
    "# 보간법 적용하여 소소"
   ]
  },
  {
   "cell_type": "markdown",
   "id": "20af7916-6c3b-4146-9ecd-7d396cfee4c8",
   "metadata": {},
   "source": [
    "# 보간법 적용하여 축소"
   ]
  },
  {
   "cell_type": "code",
   "execution_count": 2,
   "id": "80a3cc37-a311-494e-b2fd-4c14f29056fc",
   "metadata": {},
   "outputs": [],
   "source": [
    "import cv2\n",
    "img = cv2.imread('img.jpg')\n",
    "#x,y의 비율을 정의 (0.5배로 줄임)\n",
    "dst = cv2.resize(img, None, fx=0.5, fy=0.5, interpolation=cv2.INTER_AREA) \n",
    "\n",
    "cv2.imshow('img', img) #원본 크기\n",
    "cv2.imshow('resize', dst) # 바뀐 크기\n",
    "cv2.waitKey(0)\n",
    "cv2.destroyAllWindows()"
   ]
  },
  {
   "cell_type": "markdown",
   "id": "7046fe9f-2c7c-4660-a778-2a93221c1b62",
   "metadata": {},
   "source": [
    "# 보간법 적용하여 확대"
   ]
  },
  {
   "cell_type": "code",
   "execution_count": 3,
   "id": "738520d5-d143-4cd9-b282-f577b34a4e2f",
   "metadata": {},
   "outputs": [],
   "source": [
    "import cv2\n",
    "img = cv2.imread('img.jpg')\n",
    "#x,y의 비율을 정의 (1.5배로 확대)\n",
    "dst = cv2.resize(img, None, fx=1.5, fy=1.5, interpolation=cv2.INTER_CUBIC) \n",
    "\n",
    "cv2.imshow('img', img) #원본 크기\n",
    "cv2.imshow('resize', dst) # 바뀐 크기\n",
    "cv2.waitKey(0)\n",
    "cv2.destroyAllWindows()"
   ]
  },
  {
   "cell_type": "markdown",
   "id": "ebbfb532-ef52-4cb7-9adc-0c3b82f3d194",
   "metadata": {},
   "source": [
    "# 동영상"
   ]
  },
  {
   "cell_type": "markdown",
   "id": "1f4522f6-177d-4ccc-982a-7304a527a2a8",
   "metadata": {},
   "source": [
    "## 고정크기로 설정"
   ]
  },
  {
   "cell_type": "code",
   "execution_count": 3,
   "id": "c80696d8-0ccb-4ace-9f09-ed9141c88480",
   "metadata": {},
   "outputs": [],
   "source": [
    "import cv2\n",
    "cap = cv2.VideoCapture('video.mp4')\n",
    "\n",
    "# 반복문을통해 프레임을 불러와서 실행\n",
    "while cap.isOpened(): \n",
    "    ret, frame = cap.read()\n",
    "    if not ret:\n",
    "        print('더 이상 가져올 프레임이 없어요')\n",
    "        break # braek로 반복문 탈출\n",
    "    #프레임이 각 이미지가 되는것이므로 frame_resized라는 변수를 다시 만들어줌.\n",
    "    frame_resized = cv2.resize(frame, (400, 500))\n",
    "    cv2.imshow('video', frame_resized)\n",
    "    \n",
    "    if cv2.waitKey(1) == ord('q'):\n",
    "        break\n",
    "\n",
    "cap.release() \n",
    "cv2.destroyAllWindows()"
   ]
  },
  {
   "cell_type": "markdown",
   "id": "8a9cfbe6-ae5d-49e4-ad4d-d8ca945b4fb2",
   "metadata": {},
   "source": [
    "## 비율로 설정"
   ]
  },
  {
   "cell_type": "code",
   "execution_count": 4,
   "id": "3e17e8ce-e727-428f-8986-829a878ebe3d",
   "metadata": {},
   "outputs": [],
   "source": [
    "import cv2\n",
    "cap = cv2.VideoCapture('video.mp4')\n",
    "\n",
    "# 반복문을통해 프레임을 불러와서 실행\n",
    "while cap.isOpened(): \n",
    "    ret, frame = cap.read()\n",
    "    if not ret:\n",
    "        print('더 이상 가져올 프레임이 없어요')\n",
    "        break # braek로 반복문 탈출\n",
    "    #프레임이 각 이미지가 되는것이므로 frame_resized라는 변수를 다시 만들어줌.\n",
    "    frame_resized = cv2.resize(frame, None, fx=1.5, fy=1.5, interpolation=cv2.INTER_CUBIC)\n",
    "    cv2.imshow('video', frame_resized)\n",
    "    \n",
    "    if cv2.waitKey(1) == ord('q'):\n",
    "        break\n",
    "\n",
    "cap.release() \n",
    "cv2.destroyAllWindows()"
   ]
  },
  {
   "cell_type": "code",
   "execution_count": null,
   "id": "a02ecef3-a4d8-4f15-943f-2da8e0bc5599",
   "metadata": {},
   "outputs": [],
   "source": []
  }
 ],
 "metadata": {
  "kernelspec": {
   "display_name": "Python 3 (ipykernel)",
   "language": "python",
   "name": "python3"
  },
  "language_info": {
   "codemirror_mode": {
    "name": "ipython",
    "version": 3
   },
   "file_extension": ".py",
   "mimetype": "text/x-python",
   "name": "python",
   "nbconvert_exporter": "python",
   "pygments_lexer": "ipython3",
   "version": "3.11.7"
  }
 },
 "nbformat": 4,
 "nbformat_minor": 5
}
