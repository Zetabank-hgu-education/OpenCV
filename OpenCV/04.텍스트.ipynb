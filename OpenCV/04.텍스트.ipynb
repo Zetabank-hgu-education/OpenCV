{
 "cells": [
  {
   "cell_type": "markdown",
   "id": "f5e37379-6738-49e9-a70e-7397f689145f",
   "metadata": {},
   "source": [
    "## 4. 텍스트"
   ]
  },
  {
   "cell_type": "markdown",
   "id": "e908c175-472c-4f09-b065-097088db7ec1",
   "metadata": {},
   "source": [
    "## OpenCV 에서 사용하는 글꼴 종류\n",
    "1. cv2.FONT_HERSHEY_SIMPLEX : 보통 크기의 산 세리프 글꼴\n",
    "2. cv2.FONT_HERSHEY_PLAIN : 작은 크기의 산 세리프 글꼴\n",
    "3. cv2.FONT_HERSHEY_SCRIPT_SIMPLEX : 필기체 스타일 글꼴\n",
    "4. cv2.FONT_HERSHEY_TRIPLEX : 보통 크기의 세리프 글꼴\n",
    "5. cv2.FONT_ITALIC : 기울임 글꼴"
   ]
  },
  {
   "cell_type": "code",
   "execution_count": 2,
   "id": "30daa3da-37a0-4052-809d-3bd5630d31b7",
   "metadata": {},
   "outputs": [],
   "source": [
    "import numpy as np\n",
    "import cv2\n",
    "\n",
    "img = np.zeros((480, 640, 3), dtype=np.uint8)\n",
    "\n",
    "SCALE = 1\n",
    "COLOR = (255, 255, 255) #흰색\n",
    "THICKNESS = 1\n",
    "\n",
    "cv2.putText(img, \"Nado Simplex\", (20, 50), cv2.FONT_HERSHEY_SIMPLEX, SCALE, COLOR, THICKNESS)\n",
    "#그릴위치, 텍스트 내용, 시작 위치, 폰트종류, 크기, 색깔, 두께\n",
    "cv2.putText(img, \"Nado PLAIN\", (20, 150), cv2.FONT_HERSHEY_PLAIN, SCALE, COLOR, THICKNESS)\n",
    "cv2.putText(img, \"Nado SCRIPT_SIMPLEX\", (20, 200), cv2.FONT_HERSHEY_SCRIPT_SIMPLEX, SCALE, COLOR, THICKNESS)\n",
    "cv2.putText(img, \"Nado TRIPLEX\", (20, 250), cv2.FONT_HERSHEY_TRIPLEX, SCALE, COLOR, THICKNESS)\n",
    "#ITALIC은 다른폰트와 함께 사용\n",
    "cv2.putText(img, \"Nado ITALIC\", (20, 300), cv2.FONT_HERSHEY_TRIPLEX | cv2.FONT_ITALIC, SCALE, COLOR, THICKNESS) \n",
    "\n",
    "cv2.imshow('img', img)\n",
    "cv2.waitKey(0)\n",
    "cv2.destroyAllWindows()"
   ]
  },
  {
   "cell_type": "markdown",
   "id": "8065ac9b-1e96-478d-9955-8bd6758fab2a",
   "metadata": {},
   "source": [
    "## 한글 우회 (에러)\n"
   ]
  },
  {
   "cell_type": "code",
   "execution_count": 2,
   "id": "7c901031-c1ec-4baf-9820-73195c441c1f",
   "metadata": {},
   "outputs": [],
   "source": [
    "import numpy as np\n",
    "import cv2\n",
    "\n",
    "img = np.zeros((480, 640, 3), dtype=np.uint8)\n",
    "\n",
    "SCALE = 1\n",
    "COLOR = (255, 255, 255) #흰색\n",
    "THICKNESS = 1\n",
    "\n",
    "# opencv에서 한글을 적용x\n",
    "cv2.putText(img, \"나도코딩\", (20, 50), cv2.FONT_HERSHEY_SIMPLEX, SCALE, COLOR, THICKNESS) \n",
    "#그릴위치, 텍스트 내용, 시작 위치, 폰트종류, 크기, 색깔, 두께\n",
    "\n",
    "cv2.imshow('img', img)\n",
    "cv2.waitKey(0)\n",
    "cv2.destroyAllWindows()"
   ]
  },
  {
   "cell_type": "markdown",
   "id": "ae1e8994-f665-4254-927b-8f10f58e8d65",
   "metadata": {},
   "source": [
    "# 한글우회 방법"
   ]
  },
  {
   "cell_type": "code",
   "execution_count": 2,
   "id": "30f16833-df8f-43a7-81db-2d97e2ebfc9f",
   "metadata": {},
   "outputs": [],
   "source": [
    "import numpy as np\n",
    "import cv2\n",
    "#PIL (Python image Libarary)\n",
    "from PIL import ImageFont, ImageDraw, Image\n",
    "\n",
    "#이미지에 한글을 쓰고 싶을 때 쓰는 함수\n",
    "def myPutText(src, text, pose, font_size, font_color):\n",
    "    img_pil = Image.fromarray(src)\n",
    "    draw = ImageDraw.Draw(img_pil)\n",
    "    font = ImageFont.truetype('C;/Windows/Fonts/gulim.ttc', font_size)\n",
    "    draw.text(pose, text, font=font, fill=font_color) \n",
    "    return np.array(img_pil)\n",
    "    \n",
    "img = np.zeros((480, 640, 3), dtype=np.uint8)\n",
    "\n",
    "FONT_SIZE = 30 #폰트 사이즈\n",
    "COLOR = (255, 255, 255) #흰색\n",
    "\n",
    "#그릴위치, 텍스트 내용, 시작 위치, 폰트종류, 크기, 색깔, 두께\n",
    "img = myPutText(img, \"나도 코딩\", (20, 50), FONT_SIZE, COLOR)\n",
    "\n",
    "cv2.imshow('img', img)\n",
    "cv2.waitKey(0)\n",
    "cv2.destroyAllWindows()"
   ]
  },
  {
   "cell_type": "code",
   "execution_count": 1,
   "id": "7c4965c8-4173-4cc8-b3e6-2f9e8ca982b0",
   "metadata": {},
   "outputs": [
    {
     "name": "stdout",
     "output_type": "stream",
     "text": [
      "Requirement already satisfied: pillow in c:\\users\\zeta\\anaconda3\\lib\\site-packages (10.2.0)\n",
      "Note: you may need to restart the kernel to use updated packages.\n"
     ]
    }
   ],
   "source": [
    "pip install pillow"
   ]
  },
  {
   "cell_type": "code",
   "execution_count": null,
   "id": "e4e262e2-9bf0-4326-95fa-59422c30ccbb",
   "metadata": {},
   "outputs": [],
   "source": []
  }
 ],
 "metadata": {
  "kernelspec": {
   "display_name": "Python 3 (ipykernel)",
   "language": "python",
   "name": "python3"
  },
  "language_info": {
   "codemirror_mode": {
    "name": "ipython",
    "version": 3
   },
   "file_extension": ".py",
   "mimetype": "text/x-python",
   "name": "python",
   "nbconvert_exporter": "python",
   "pygments_lexer": "ipython3",
   "version": "3.11.7"
  }
 },
 "nbformat": 4,
 "nbformat_minor": 5
}
